{
 "cells": [
  {
   "cell_type": "code",
   "execution_count": 2,
   "metadata": {},
   "outputs": [],
   "source": [
    "pessoas = {\"nome\": \"Gustavo\", \"Sexo\": \"M\", \"Idade\": 22}"
   ]
  },
  {
   "cell_type": "code",
   "execution_count": 5,
   "metadata": {},
   "outputs": [
    {
     "name": "stdout",
     "output_type": "stream",
     "text": [
      "O Gustavo tem 22 anos\n"
     ]
    }
   ],
   "source": [
    "print(f'O {pessoas[\"nome\"]} tem {pessoas[\"Idade\"]} anos')"
   ]
  },
  {
   "cell_type": "code",
   "execution_count": 11,
   "metadata": {},
   "outputs": [
    {
     "name": "stdout",
     "output_type": "stream",
     "text": [
      "nome = Gustavo\n",
      "Sexo = M\n",
      "Idade = 22\n",
      "peso = 88\n"
     ]
    }
   ],
   "source": [
    "pessoas[\"peso\"] = 88\n",
    "for k, v in pessoas.items():\n",
    "    print(f\"{k} = {v}\")"
   ]
  },
  {
   "cell_type": "code",
   "execution_count": 13,
   "metadata": {},
   "outputs": [
    {
     "name": "stdout",
     "output_type": "stream",
     "text": [
      "uf\n",
      "nome\n",
      "uf\n",
      "nome\n",
      "uf\n",
      "nome\n"
     ]
    }
   ],
   "source": [
    "#dicionários dentro de listas:\n",
    "estado = dict()\n",
    "brasil = list()\n",
    "estado = {\"uf\": \"\", \"nome\": \"\"}\n",
    "for i in range(3):\n",
    "    estado[\"nome\"] = input(\"Digite o nome do estado\")\n",
    "    estado[\"uf\"] = input(\"Digite a Sigla\")\n",
    "    brasil.append(estado.copy())\n",
    "for e in brasil:\n",
    "    for v in e.values(0):\n",
    "        print(v)"
   ]
  }
 ],
 "metadata": {
  "kernelspec": {
   "display_name": "Python 3",
   "language": "python",
   "name": "python3"
  },
  "language_info": {
   "codemirror_mode": {
    "name": "ipython",
    "version": 3
   },
   "file_extension": ".py",
   "mimetype": "text/x-python",
   "name": "python",
   "nbconvert_exporter": "python",
   "pygments_lexer": "ipython3",
   "version": "3.10.10"
  },
  "orig_nbformat": 4,
  "vscode": {
   "interpreter": {
    "hash": "2ec1ab3a7492c682861eb248a34c624e35e5f607dace7fc7e85d983a5f829e20"
   }
  }
 },
 "nbformat": 4,
 "nbformat_minor": 2
}
